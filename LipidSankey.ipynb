{
 "cells": [
  {
   "cell_type": "code",
   "execution_count": 1,
   "id": "initial_id",
   "metadata": {
    "ExecuteTime": {
     "end_time": "2024-08-05T21:46:27.070405Z",
     "start_time": "2024-08-05T21:46:27.067361Z"
    },
    "collapsed": true
   },
   "outputs": [],
   "source": [
    "# -*- coding: utf-8 -*-\n",
    "#\n",
    "# Copyright (C) 2021-2024  LMAI_team @ TU Dresden:\n",
    "#     LMAI_team: Zhixu Ni, Maria Fedorova\n",
    "#\n",
    "# Licensing:\n",
    "# This code is licensed under AGPL-3.0 license (Affero General Public License v3.0).\n",
    "# For more information, please read:\n",
    "#     AGPL-3.0 License: https://www.gnu.org/licenses/agpl-3.0.en.html\n",
    "#\n",
    "# Citation:\n",
    "# Please cite our publication in an appropriate form.\n",
    "#\n",
    "# For more information, please contact:\n",
    "#     Fedorova Lab (#LMAI_team): https://fedorovalab.net/\n",
    "#     LMAI on Github: https://github.com/LMAI-TUD\n",
    "#"
   ]
  },
  {
   "cell_type": "code",
   "execution_count": 2,
   "id": "9b5138aa4554945",
   "metadata": {
    "ExecuteTime": {
     "end_time": "2024-08-05T21:46:27.362630Z",
     "start_time": "2024-08-05T21:46:27.071339Z"
    }
   },
   "outputs": [],
   "source": [
    "import os\n",
    "\n",
    "import pandas as pd\n",
    "\n",
    "from lmai.sankey_prep import get_sankey_data\n",
    "from lmai.sankey_plot import format_sankey_data, plot_sankey, reload_sankey_json"
   ]
  },
  {
   "cell_type": "code",
   "execution_count": 3,
   "id": "8842f2559bec5b26",
   "metadata": {
    "ExecuteTime": {
     "end_time": "2024-08-05T21:46:27.367961Z",
     "start_time": "2024-08-05T21:46:27.364226Z"
    }
   },
   "outputs": [],
   "source": [
    "# define the input file path\n",
    "input_file_path = 'data/data_sankey.xlsx'\n",
    "# define the output file path\n",
    "# a set of svg, png, html and json files will be generated, with the same prefix\n",
    "# you don't need to specify the file extension here\n",
    "output_file_path = 'output/sankey_plot'\n",
    "\n",
    "# define the temporary files for pre-processing\n",
    "link_flow_json = 'output/link_flow.json'\n",
    "node_color_config_csv = 'output/node_color_config.csv'\n",
    "\n"
   ]
  },
  {
   "cell_type": "code",
   "execution_count": 4,
   "id": "2bf628858fb8045a",
   "metadata": {
    "ExecuteTime": {
     "end_time": "2024-08-05T21:46:27.371393Z",
     "start_time": "2024-08-05T21:46:27.369101Z"
    }
   },
   "outputs": [],
   "source": [
    "# define other settings\n",
    "# input file column names\n",
    "spb_col_name = 'SPB'\n",
    "lipid_class_col_name = 'Class'\n",
    "fa_col_name = 'FA'\n",
    "val_col_name = 'Value'\n",
    "lipid_species_col_name = 'Species'\n",
    "# if the ratio of the other class is less than the threshold, it will be merged into an \"Others\" node\n",
    "# value should be a float with \".\"\n",
    "# e.g. 2 % threshold should be set as 2.0\n",
    "threshold_config_info = {'SPB': 2.0, 'Class': 0.8, 'FA': 0.8}\n",
    "# define the size of the image\n",
    "img_width = 1280\n",
    "img_height = 800\n",
    "node_box_thickness = 100"
   ]
  },
  {
   "cell_type": "code",
   "execution_count": 5,
   "id": "bce8733b76d72135",
   "metadata": {
    "ExecuteTime": {
     "end_time": "2024-08-05T21:46:27.441231Z",
     "start_time": "2024-08-05T21:46:27.373777Z"
    }
   },
   "outputs": [
    {
     "name": "stdout",
     "output_type": "stream",
     "text": [
      "File found: /Users/ni/PycharmProjects/LipidSankey/data/data_sankey.xlsx\n"
     ]
    }
   ],
   "source": [
    "# pre-process the data\n",
    "calc_sankey_df, calc_map_df = get_sankey_data(input_file=input_file_path, \n",
    "                                              start_col_name = spb_col_name, \n",
    "                                              mid_col_name= lipid_class_col_name, \n",
    "                                              end_col_name= fa_col_name, \n",
    "                                              val_col_name = val_col_name, \n",
    "                                              lipid_index_col_name = lipid_species_col_name,\n",
    "                                              other_class_threshold_info=threshold_config_info)"
   ]
  },
  {
   "cell_type": "code",
   "execution_count": 6,
   "id": "25972ac4d68bf500",
   "metadata": {
    "ExecuteTime": {
     "end_time": "2024-08-05T21:46:27.447729Z",
     "start_time": "2024-08-05T21:46:27.441794Z"
    }
   },
   "outputs": [
    {
     "data": {
      "text/html": [
       "<div>\n",
       "<style scoped>\n",
       "    .dataframe tbody tr th:only-of-type {\n",
       "        vertical-align: middle;\n",
       "    }\n",
       "\n",
       "    .dataframe tbody tr th {\n",
       "        vertical-align: top;\n",
       "    }\n",
       "\n",
       "    .dataframe thead th {\n",
       "        text-align: right;\n",
       "    }\n",
       "</style>\n",
       "<table border=\"1\" class=\"dataframe\">\n",
       "  <thead>\n",
       "    <tr style=\"text-align: right;\">\n",
       "      <th></th>\n",
       "      <th>source_label</th>\n",
       "      <th>target_label</th>\n",
       "      <th>value</th>\n",
       "      <th>ratio</th>\n",
       "    </tr>\n",
       "  </thead>\n",
       "  <tbody>\n",
       "    <tr>\n",
       "      <th>0</th>\n",
       "      <td>Others (3.8%)</td>\n",
       "      <td>Ceramide (35.8%)</td>\n",
       "      <td>3.213036</td>\n",
       "      <td>2.100575</td>\n",
       "    </tr>\n",
       "    <tr>\n",
       "      <th>1</th>\n",
       "      <td>Others (3.8%)</td>\n",
       "      <td>Dihydro-Ceramide (0.8%)</td>\n",
       "      <td>1.226526</td>\n",
       "      <td>0.801862</td>\n",
       "    </tr>\n",
       "    <tr>\n",
       "      <th>2</th>\n",
       "      <td>Others (3.8%)</td>\n",
       "      <td>Dihydro-Deoxy-Ceramide (3.5%)</td>\n",
       "      <td>0.704055</td>\n",
       "      <td>0.460288</td>\n",
       "    </tr>\n",
       "    <tr>\n",
       "      <th>3</th>\n",
       "      <td>Others (3.8%)</td>\n",
       "      <td>Hex-(n)-Ceramide (43.1%)</td>\n",
       "      <td>0.231049</td>\n",
       "      <td>0.151052</td>\n",
       "    </tr>\n",
       "    <tr>\n",
       "      <th>4</th>\n",
       "      <td>Others (3.8%)</td>\n",
       "      <td>Others (0.8%)</td>\n",
       "      <td>0.451926</td>\n",
       "      <td>0.295454</td>\n",
       "    </tr>\n",
       "  </tbody>\n",
       "</table>\n",
       "</div>"
      ],
      "text/plain": [
       "    source_label                   target_label     value     ratio\n",
       "0  Others (3.8%)               Ceramide (35.8%)  3.213036  2.100575\n",
       "1  Others (3.8%)        Dihydro-Ceramide (0.8%)  1.226526  0.801862\n",
       "2  Others (3.8%)  Dihydro-Deoxy-Ceramide (3.5%)  0.704055  0.460288\n",
       "3  Others (3.8%)       Hex-(n)-Ceramide (43.1%)  0.231049  0.151052\n",
       "4  Others (3.8%)                  Others (0.8%)  0.451926  0.295454"
      ]
     },
     "execution_count": 6,
     "metadata": {},
     "output_type": "execute_result"
    }
   ],
   "source": [
    "# preview the data\n",
    "calc_sankey_df.to_csv(f'{output_file_path}_df.csv', index=True)\n",
    "calc_sankey_df.head()"
   ]
  },
  {
   "cell_type": "code",
   "execution_count": 7,
   "id": "f1d51bb2ed35945e",
   "metadata": {
    "ExecuteTime": {
     "end_time": "2024-08-05T21:46:27.452330Z",
     "start_time": "2024-08-05T21:46:27.448329Z"
    }
   },
   "outputs": [
    {
     "data": {
      "text/html": [
       "<div>\n",
       "<style scoped>\n",
       "    .dataframe tbody tr th:only-of-type {\n",
       "        vertical-align: middle;\n",
       "    }\n",
       "\n",
       "    .dataframe tbody tr th {\n",
       "        vertical-align: top;\n",
       "    }\n",
       "\n",
       "    .dataframe thead th {\n",
       "        text-align: right;\n",
       "    }\n",
       "</style>\n",
       "<table border=\"1\" class=\"dataframe\">\n",
       "  <thead>\n",
       "    <tr style=\"text-align: right;\">\n",
       "      <th></th>\n",
       "      <th>lipid</th>\n",
       "      <th>source_label</th>\n",
       "      <th>target_label</th>\n",
       "      <th>source_node</th>\n",
       "      <th>target_node</th>\n",
       "      <th>value</th>\n",
       "      <th>ratio</th>\n",
       "    </tr>\n",
       "  </thead>\n",
       "  <tbody>\n",
       "    <tr>\n",
       "      <th>0</th>\n",
       "      <td>Cer(18:0;1/16:0)</td>\n",
       "      <td>SPB 18:0;1 (3.0%)</td>\n",
       "      <td>Dihydro-Deoxy-Ceramide (3.5%)</td>\n",
       "      <td>SPB 18:0;1</td>\n",
       "      <td>Dihydro-Deoxy-Ceramide</td>\n",
       "      <td>0.210790</td>\n",
       "      <td>0.137807</td>\n",
       "    </tr>\n",
       "    <tr>\n",
       "      <th>1</th>\n",
       "      <td>Cer(18:0;1/20:0)</td>\n",
       "      <td>SPB 18:0;1 (3.0%)</td>\n",
       "      <td>Dihydro-Deoxy-Ceramide (3.5%)</td>\n",
       "      <td>SPB 18:0;1</td>\n",
       "      <td>Dihydro-Deoxy-Ceramide</td>\n",
       "      <td>0.232121</td>\n",
       "      <td>0.151753</td>\n",
       "    </tr>\n",
       "    <tr>\n",
       "      <th>2</th>\n",
       "      <td>Cer(18:0;1/22:0)</td>\n",
       "      <td>SPB 18:0;1 (3.0%)</td>\n",
       "      <td>Dihydro-Deoxy-Ceramide (3.5%)</td>\n",
       "      <td>SPB 18:0;1</td>\n",
       "      <td>Dihydro-Deoxy-Ceramide</td>\n",
       "      <td>0.860527</td>\n",
       "      <td>0.562584</td>\n",
       "    </tr>\n",
       "    <tr>\n",
       "      <th>3</th>\n",
       "      <td>Cer(18:0;1/23:0)</td>\n",
       "      <td>SPB 18:0;1 (3.0%)</td>\n",
       "      <td>Dihydro-Deoxy-Ceramide (3.5%)</td>\n",
       "      <td>SPB 18:0;1</td>\n",
       "      <td>Dihydro-Deoxy-Ceramide</td>\n",
       "      <td>0.128398</td>\n",
       "      <td>0.083943</td>\n",
       "    </tr>\n",
       "    <tr>\n",
       "      <th>4</th>\n",
       "      <td>Cer(18:0;1/24:0)</td>\n",
       "      <td>SPB 18:0;1 (3.0%)</td>\n",
       "      <td>Dihydro-Deoxy-Ceramide (3.5%)</td>\n",
       "      <td>SPB 18:0;1</td>\n",
       "      <td>Dihydro-Deoxy-Ceramide</td>\n",
       "      <td>1.576590</td>\n",
       "      <td>1.030722</td>\n",
       "    </tr>\n",
       "  </tbody>\n",
       "</table>\n",
       "</div>"
      ],
      "text/plain": [
       "              lipid       source_label                   target_label  \\\n",
       "0  Cer(18:0;1/16:0)  SPB 18:0;1 (3.0%)  Dihydro-Deoxy-Ceramide (3.5%)   \n",
       "1  Cer(18:0;1/20:0)  SPB 18:0;1 (3.0%)  Dihydro-Deoxy-Ceramide (3.5%)   \n",
       "2  Cer(18:0;1/22:0)  SPB 18:0;1 (3.0%)  Dihydro-Deoxy-Ceramide (3.5%)   \n",
       "3  Cer(18:0;1/23:0)  SPB 18:0;1 (3.0%)  Dihydro-Deoxy-Ceramide (3.5%)   \n",
       "4  Cer(18:0;1/24:0)  SPB 18:0;1 (3.0%)  Dihydro-Deoxy-Ceramide (3.5%)   \n",
       "\n",
       "  source_node             target_node     value     ratio  \n",
       "0  SPB 18:0;1  Dihydro-Deoxy-Ceramide  0.210790  0.137807  \n",
       "1  SPB 18:0;1  Dihydro-Deoxy-Ceramide  0.232121  0.151753  \n",
       "2  SPB 18:0;1  Dihydro-Deoxy-Ceramide  0.860527  0.562584  \n",
       "3  SPB 18:0;1  Dihydro-Deoxy-Ceramide  0.128398  0.083943  \n",
       "4  SPB 18:0;1  Dihydro-Deoxy-Ceramide  1.576590  1.030722  "
      ]
     },
     "execution_count": 7,
     "metadata": {},
     "output_type": "execute_result"
    }
   ],
   "source": [
    "calc_map_df.to_csv(f'{output_file_path}_map_df.csv', index=True)\n",
    "calc_map_df.head()"
   ]
  },
  {
   "cell_type": "code",
   "execution_count": 8,
   "id": "ce9e7cf11ad91d8f",
   "metadata": {
    "ExecuteTime": {
     "end_time": "2024-08-05T21:46:27.456279Z",
     "start_time": "2024-08-05T21:46:27.452896Z"
    }
   },
   "outputs": [],
   "source": [
    "# format the data for sankey plot\n",
    "calc_link_json, color_df = format_sankey_data(calc_sankey_df, link_flow_json, node_color_config_csv)\n",
    "\n",
    "# Advanced users can modify the calc_link_json file to change the order of the nodes.\n",
    "# Please make sure that you change the corresponding node orders in the links as well."
   ]
  },
  {
   "cell_type": "code",
   "execution_count": 9,
   "id": "4febbaa355ffa6aa",
   "metadata": {
    "ExecuteTime": {
     "end_time": "2024-08-05T21:46:27.460268Z",
     "start_time": "2024-08-05T21:46:27.456894Z"
    }
   },
   "outputs": [
    {
     "name": "stdout",
     "output_type": "stream",
     "text": [
      "please check the color configuration file to change colors: output/node_color_config.csv\n"
     ]
    },
    {
     "data": {
      "text/html": [
       "<div>\n",
       "<style scoped>\n",
       "    .dataframe tbody tr th:only-of-type {\n",
       "        vertical-align: middle;\n",
       "    }\n",
       "\n",
       "    .dataframe tbody tr th {\n",
       "        vertical-align: top;\n",
       "    }\n",
       "\n",
       "    .dataframe thead th {\n",
       "        text-align: right;\n",
       "    }\n",
       "</style>\n",
       "<table border=\"1\" class=\"dataframe\">\n",
       "  <thead>\n",
       "    <tr style=\"text-align: right;\">\n",
       "      <th></th>\n",
       "      <th>label</th>\n",
       "      <th>color</th>\n",
       "    </tr>\n",
       "  </thead>\n",
       "  <tbody>\n",
       "    <tr>\n",
       "      <th>0</th>\n",
       "      <td>Ceramide (35.8%)</td>\n",
       "      <td>#636EFA</td>\n",
       "    </tr>\n",
       "    <tr>\n",
       "      <th>1</th>\n",
       "      <td>Deoxy-Ceramide (9.8%)</td>\n",
       "      <td>#EF553B</td>\n",
       "    </tr>\n",
       "    <tr>\n",
       "      <th>2</th>\n",
       "      <td>Dihydro-Ceramide (0.8%)</td>\n",
       "      <td>#00CC96</td>\n",
       "    </tr>\n",
       "    <tr>\n",
       "      <th>3</th>\n",
       "      <td>Dihydro-Deoxy-Ceramide (3.5%)</td>\n",
       "      <td>#AB63FA</td>\n",
       "    </tr>\n",
       "    <tr>\n",
       "      <th>4</th>\n",
       "      <td>FA 16:0 (18.3%)</td>\n",
       "      <td>#FFA15A</td>\n",
       "    </tr>\n",
       "    <tr>\n",
       "      <th>5</th>\n",
       "      <td>FA 18:0 (3.2%)</td>\n",
       "      <td>#19D3F3</td>\n",
       "    </tr>\n",
       "    <tr>\n",
       "      <th>6</th>\n",
       "      <td>FA 20:0 (1.9%)</td>\n",
       "      <td>#FF6692</td>\n",
       "    </tr>\n",
       "    <tr>\n",
       "      <th>7</th>\n",
       "      <td>FA 22:0 (16.9%)</td>\n",
       "      <td>#B6E880</td>\n",
       "    </tr>\n",
       "    <tr>\n",
       "      <th>8</th>\n",
       "      <td>FA 23:0 (5.0%)</td>\n",
       "      <td>#FF97FF</td>\n",
       "    </tr>\n",
       "    <tr>\n",
       "      <th>9</th>\n",
       "      <td>FA 24:0 (31.3%)</td>\n",
       "      <td>#FECB52</td>\n",
       "    </tr>\n",
       "    <tr>\n",
       "      <th>10</th>\n",
       "      <td>FA 24:1 (21.1%)</td>\n",
       "      <td>#636EFA</td>\n",
       "    </tr>\n",
       "    <tr>\n",
       "      <th>11</th>\n",
       "      <td>Hex-(n)-Ceramide (43.1%)</td>\n",
       "      <td>#EF553B</td>\n",
       "    </tr>\n",
       "    <tr>\n",
       "      <th>12</th>\n",
       "      <td>Others (0.8%)</td>\n",
       "      <td>#00CC96</td>\n",
       "    </tr>\n",
       "    <tr>\n",
       "      <th>13</th>\n",
       "      <td>Others (2.2%)</td>\n",
       "      <td>#AB63FA</td>\n",
       "    </tr>\n",
       "    <tr>\n",
       "      <th>14</th>\n",
       "      <td>Others (3.8%)</td>\n",
       "      <td>#FFA15A</td>\n",
       "    </tr>\n",
       "    <tr>\n",
       "      <th>15</th>\n",
       "      <td>SPB 16:1;2 (2.6%)</td>\n",
       "      <td>#19D3F3</td>\n",
       "    </tr>\n",
       "    <tr>\n",
       "      <th>16</th>\n",
       "      <td>SPB 18:0;1 (3.0%)</td>\n",
       "      <td>#FF6692</td>\n",
       "    </tr>\n",
       "    <tr>\n",
       "      <th>17</th>\n",
       "      <td>SPB 18:1;1 (9.8%)</td>\n",
       "      <td>#B6E880</td>\n",
       "    </tr>\n",
       "    <tr>\n",
       "      <th>18</th>\n",
       "      <td>SPB 18:1;2 (74.0%)</td>\n",
       "      <td>#FF97FF</td>\n",
       "    </tr>\n",
       "    <tr>\n",
       "      <th>19</th>\n",
       "      <td>SPB 18:2;2 (6.7%)</td>\n",
       "      <td>#FECB52</td>\n",
       "    </tr>\n",
       "    <tr>\n",
       "      <th>20</th>\n",
       "      <td>Sphingadiene-Ceramide (6.1%)</td>\n",
       "      <td>#636EFA</td>\n",
       "    </tr>\n",
       "  </tbody>\n",
       "</table>\n",
       "</div>"
      ],
      "text/plain": [
       "                            label    color\n",
       "0                Ceramide (35.8%)  #636EFA\n",
       "1           Deoxy-Ceramide (9.8%)  #EF553B\n",
       "2         Dihydro-Ceramide (0.8%)  #00CC96\n",
       "3   Dihydro-Deoxy-Ceramide (3.5%)  #AB63FA\n",
       "4                 FA 16:0 (18.3%)  #FFA15A\n",
       "5                  FA 18:0 (3.2%)  #19D3F3\n",
       "6                  FA 20:0 (1.9%)  #FF6692\n",
       "7                 FA 22:0 (16.9%)  #B6E880\n",
       "8                  FA 23:0 (5.0%)  #FF97FF\n",
       "9                 FA 24:0 (31.3%)  #FECB52\n",
       "10                FA 24:1 (21.1%)  #636EFA\n",
       "11       Hex-(n)-Ceramide (43.1%)  #EF553B\n",
       "12                  Others (0.8%)  #00CC96\n",
       "13                  Others (2.2%)  #AB63FA\n",
       "14                  Others (3.8%)  #FFA15A\n",
       "15              SPB 16:1;2 (2.6%)  #19D3F3\n",
       "16              SPB 18:0;1 (3.0%)  #FF6692\n",
       "17              SPB 18:1;1 (9.8%)  #B6E880\n",
       "18             SPB 18:1;2 (74.0%)  #FF97FF\n",
       "19              SPB 18:2;2 (6.7%)  #FECB52\n",
       "20   Sphingadiene-Ceramide (6.1%)  #636EFA"
      ]
     },
     "execution_count": 9,
     "metadata": {},
     "output_type": "execute_result"
    }
   ],
   "source": [
    "# Auto-generate the color configuration file\n",
    "print(f\"please check the color configuration file to change colors: {node_color_config_csv}\")\n",
    "color_df"
   ]
  },
  {
   "cell_type": "markdown",
   "id": "28f18546cf5676b4",
   "metadata": {},
   "source": [
    "**You can got to the next cell to plot the sankey diagram with adjusted colors.**\n",
    "\n",
    "*Please do NOT change the row order of the color configuration file.*"
   ]
  },
  {
   "cell_type": "code",
   "execution_count": 10,
   "id": "77effe5f4a7f377a",
   "metadata": {
    "ExecuteTime": {
     "end_time": "2024-08-05T21:46:27.464410Z",
     "start_time": "2024-08-05T21:46:27.460751Z"
    }
   },
   "outputs": [
    {
     "data": {
      "text/html": [
       "<div>\n",
       "<style scoped>\n",
       "    .dataframe tbody tr th:only-of-type {\n",
       "        vertical-align: middle;\n",
       "    }\n",
       "\n",
       "    .dataframe tbody tr th {\n",
       "        vertical-align: top;\n",
       "    }\n",
       "\n",
       "    .dataframe thead th {\n",
       "        text-align: right;\n",
       "    }\n",
       "</style>\n",
       "<table border=\"1\" class=\"dataframe\">\n",
       "  <thead>\n",
       "    <tr style=\"text-align: right;\">\n",
       "      <th></th>\n",
       "      <th>label</th>\n",
       "      <th>color</th>\n",
       "    </tr>\n",
       "  </thead>\n",
       "  <tbody>\n",
       "    <tr>\n",
       "      <th>0</th>\n",
       "      <td>Ceramide (35.8%)</td>\n",
       "      <td>#636EFA</td>\n",
       "    </tr>\n",
       "    <tr>\n",
       "      <th>1</th>\n",
       "      <td>Deoxy-Ceramide (9.8%)</td>\n",
       "      <td>#EF553B</td>\n",
       "    </tr>\n",
       "    <tr>\n",
       "      <th>2</th>\n",
       "      <td>Dihydro-Ceramide (0.8%)</td>\n",
       "      <td>#00CC96</td>\n",
       "    </tr>\n",
       "    <tr>\n",
       "      <th>3</th>\n",
       "      <td>Dihydro-Deoxy-Ceramide (3.5%)</td>\n",
       "      <td>#AB63FA</td>\n",
       "    </tr>\n",
       "    <tr>\n",
       "      <th>4</th>\n",
       "      <td>FA 16:0 (18.3%)</td>\n",
       "      <td>#FFA15A</td>\n",
       "    </tr>\n",
       "    <tr>\n",
       "      <th>5</th>\n",
       "      <td>FA 18:0 (3.2%)</td>\n",
       "      <td>#19D3F3</td>\n",
       "    </tr>\n",
       "    <tr>\n",
       "      <th>6</th>\n",
       "      <td>FA 20:0 (1.9%)</td>\n",
       "      <td>#FF6692</td>\n",
       "    </tr>\n",
       "    <tr>\n",
       "      <th>7</th>\n",
       "      <td>FA 22:0 (16.9%)</td>\n",
       "      <td>#B6E880</td>\n",
       "    </tr>\n",
       "    <tr>\n",
       "      <th>8</th>\n",
       "      <td>FA 23:0 (5.0%)</td>\n",
       "      <td>#FF97FF</td>\n",
       "    </tr>\n",
       "    <tr>\n",
       "      <th>9</th>\n",
       "      <td>FA 24:0 (31.3%)</td>\n",
       "      <td>#FECB52</td>\n",
       "    </tr>\n",
       "    <tr>\n",
       "      <th>10</th>\n",
       "      <td>FA 24:1 (21.1%)</td>\n",
       "      <td>#636EFA</td>\n",
       "    </tr>\n",
       "    <tr>\n",
       "      <th>11</th>\n",
       "      <td>Hex-(n)-Ceramide (43.1%)</td>\n",
       "      <td>#EF553B</td>\n",
       "    </tr>\n",
       "    <tr>\n",
       "      <th>12</th>\n",
       "      <td>Others (0.8%)</td>\n",
       "      <td>#00CC96</td>\n",
       "    </tr>\n",
       "    <tr>\n",
       "      <th>13</th>\n",
       "      <td>Others (2.2%)</td>\n",
       "      <td>#AB63FA</td>\n",
       "    </tr>\n",
       "    <tr>\n",
       "      <th>14</th>\n",
       "      <td>Others (3.8%)</td>\n",
       "      <td>#FFA15A</td>\n",
       "    </tr>\n",
       "    <tr>\n",
       "      <th>15</th>\n",
       "      <td>SPB 16:1;2 (2.6%)</td>\n",
       "      <td>#19D3F3</td>\n",
       "    </tr>\n",
       "    <tr>\n",
       "      <th>16</th>\n",
       "      <td>SPB 18:0;1 (3.0%)</td>\n",
       "      <td>#FF6692</td>\n",
       "    </tr>\n",
       "    <tr>\n",
       "      <th>17</th>\n",
       "      <td>SPB 18:1;1 (9.8%)</td>\n",
       "      <td>#B6E880</td>\n",
       "    </tr>\n",
       "    <tr>\n",
       "      <th>18</th>\n",
       "      <td>SPB 18:1;2 (74.0%)</td>\n",
       "      <td>#FF97FF</td>\n",
       "    </tr>\n",
       "    <tr>\n",
       "      <th>19</th>\n",
       "      <td>SPB 18:2;2 (6.7%)</td>\n",
       "      <td>#FECB52</td>\n",
       "    </tr>\n",
       "    <tr>\n",
       "      <th>20</th>\n",
       "      <td>Sphingadiene-Ceramide (6.1%)</td>\n",
       "      <td>#636EFA</td>\n",
       "    </tr>\n",
       "  </tbody>\n",
       "</table>\n",
       "</div>"
      ],
      "text/plain": [
       "                            label    color\n",
       "0                Ceramide (35.8%)  #636EFA\n",
       "1           Deoxy-Ceramide (9.8%)  #EF553B\n",
       "2         Dihydro-Ceramide (0.8%)  #00CC96\n",
       "3   Dihydro-Deoxy-Ceramide (3.5%)  #AB63FA\n",
       "4                 FA 16:0 (18.3%)  #FFA15A\n",
       "5                  FA 18:0 (3.2%)  #19D3F3\n",
       "6                  FA 20:0 (1.9%)  #FF6692\n",
       "7                 FA 22:0 (16.9%)  #B6E880\n",
       "8                  FA 23:0 (5.0%)  #FF97FF\n",
       "9                 FA 24:0 (31.3%)  #FECB52\n",
       "10                FA 24:1 (21.1%)  #636EFA\n",
       "11       Hex-(n)-Ceramide (43.1%)  #EF553B\n",
       "12                  Others (0.8%)  #00CC96\n",
       "13                  Others (2.2%)  #AB63FA\n",
       "14                  Others (3.8%)  #FFA15A\n",
       "15              SPB 16:1;2 (2.6%)  #19D3F3\n",
       "16              SPB 18:0;1 (3.0%)  #FF6692\n",
       "17              SPB 18:1;1 (9.8%)  #B6E880\n",
       "18             SPB 18:1;2 (74.0%)  #FF97FF\n",
       "19              SPB 18:2;2 (6.7%)  #FECB52\n",
       "20   Sphingadiene-Ceramide (6.1%)  #636EFA"
      ]
     },
     "execution_count": 10,
     "metadata": {},
     "output_type": "execute_result"
    }
   ],
   "source": [
    "# check the color configuration file\n",
    "# if you changed the color configuration file, please change the node_color_config_csv to the updated file path\n",
    "updated_node_color_config_csv = node_color_config_csv\n",
    "updated_color_df = pd.read_csv(updated_node_color_config_csv)\n",
    "updated_color_df"
   ]
  },
  {
   "cell_type": "code",
   "execution_count": 11,
   "id": "8fe51b8eb6a76767",
   "metadata": {
    "ExecuteTime": {
     "end_time": "2024-08-05T21:46:27.993472Z",
     "start_time": "2024-08-05T21:46:27.466152Z"
    }
   },
   "outputs": [
    {
     "name": "stdout",
     "output_type": "stream",
     "text": [
      "Sankey plot saved to output/sankey_plot.png and output/sankey_plot.svg\n"
     ]
    },
    {
     "data": {
      "application/vnd.plotly.v1+json": {
       "config": {
        "plotlyServerURL": "https://plot.ly"
       },
       "data": [
        {
         "arrangement": "snap",
         "link": {
          "source": [
           14,
           14,
           14,
           14,
           14,
           15,
           15,
           16,
           17,
           18,
           18,
           19,
           19,
           0,
           0,
           0,
           0,
           0,
           0,
           0,
           0,
           1,
           1,
           1,
           1,
           1,
           1,
           1,
           2,
           2,
           2,
           2,
           2,
           2,
           3,
           3,
           3,
           3,
           3,
           3,
           11,
           11,
           11,
           11,
           11,
           11,
           11,
           11,
           12,
           12,
           12,
           12,
           12,
           12,
           20,
           20,
           20,
           20,
           20,
           20,
           20,
           20
          ],
          "target": [
           0,
           2,
           3,
           11,
           12,
           0,
           11,
           3,
           1,
           0,
           11,
           12,
           20,
           4,
           5,
           6,
           7,
           8,
           9,
           10,
           13,
           5,
           6,
           7,
           8,
           9,
           10,
           13,
           4,
           5,
           6,
           7,
           8,
           9,
           4,
           6,
           7,
           8,
           9,
           10,
           4,
           5,
           6,
           7,
           8,
           9,
           10,
           13,
           4,
           7,
           8,
           9,
           10,
           13,
           4,
           5,
           6,
           7,
           8,
           9,
           10,
           13
          ],
          "value": [
           3.2130357106232426,
           1.2265262649037936,
           0.7040549674161152,
           0.23104874955147486,
           0.4519256995490831,
           2.2151959642224077,
           1.7891958447265641,
           4.59865607848992,
           15.052483938949996,
           49.359518317154595,
           63.88391063252466,
           0.8330719152731079,
           9.401160201310939,
           6.673800644178212,
           2.171129113258292,
           1.0855618908025306,
           7.547296778458368,
           2.5821263861788877,
           16.25549577079846,
           16.638077829087408,
           1.8342615792380883,
           0.6861474018215314,
           0.8858571170824738,
           2.929996645990447,
           0.8381872126258423,
           4.8775705338351605,
           4.595057384602701,
           0.23966764299183882,
           0.31296659905146607,
           0.13064624252531476,
           0.06957248233666,
           0.251567684246596,
           0.12498276972168178,
           0.336790487022075,
           0.21078970842644962,
           0.23212074516539588,
           1.0209066013493053,
           0.1283984188475144,
           2.1202645511286238,
           1.590231020988747,
           19.438175016273895,
           1.5541349387825203,
           0.3466208431109762,
           12.761152674533568,
           3.588066586823943,
           22.03932840972259,
           5.116106700328636,
           1.060570057226569,
           0.5906728582949812,
           0.31742439077452655,
           0.04506415992617694,
           0.14230779750313388,
           0.16940195174963488,
           0.020126456573737506,
           0.8368154153870513,
           0.3032290044528944,
           0.25159058593717876,
           1.0741846363248189,
           0.3418789871942382,
           2.1040713051378392,
           4.2237902885948015,
           0.2655999782821168
          ]
         },
         "node": {
          "color": [
           "#636EFA",
           "#EF553B",
           "#00CC96",
           "#AB63FA",
           "#FFA15A",
           "#19D3F3",
           "#FF6692",
           "#B6E880",
           "#FF97FF",
           "#FECB52",
           "#636EFA",
           "#EF553B",
           "#00CC96",
           "#AB63FA",
           "#FFA15A",
           "#19D3F3",
           "#FF6692",
           "#B6E880",
           "#FF97FF",
           "#FECB52",
           "#636EFA"
          ],
          "label": [
           "Ceramide (35.8%)",
           "Deoxy-Ceramide (9.8%)",
           "Dihydro-Ceramide (0.8%)",
           "Dihydro-Deoxy-Ceramide (3.5%)",
           "FA 16:0 (18.3%)",
           "FA 18:0 (3.2%)",
           "FA 20:0 (1.9%)",
           "FA 22:0 (16.9%)",
           "FA 23:0 (5.0%)",
           "FA 24:0 (31.3%)",
           "FA 24:1 (21.1%)",
           "Hex-(n)-Ceramide (43.1%)",
           "Others (0.8%)",
           "Others (2.2%)",
           "Others (3.8%)",
           "SPB 16:1;2 (2.6%)",
           "SPB 18:0;1 (3.0%)",
           "SPB 18:1;1 (9.8%)",
           "SPB 18:1;2 (74.0%)",
           "SPB 18:2;2 (6.7%)",
           "Sphingadiene-Ceramide (6.1%)"
          ],
          "pad": 15,
          "thickness": 100
         },
         "type": "sankey"
        }
       ],
       "layout": {
        "font": {
         "size": 10
        },
        "template": {
         "data": {
          "bar": [
           {
            "error_x": {
             "color": "#2a3f5f"
            },
            "error_y": {
             "color": "#2a3f5f"
            },
            "marker": {
             "line": {
              "color": "#E5ECF6",
              "width": 0.5
             },
             "pattern": {
              "fillmode": "overlay",
              "size": 10,
              "solidity": 0.2
             }
            },
            "type": "bar"
           }
          ],
          "barpolar": [
           {
            "marker": {
             "line": {
              "color": "#E5ECF6",
              "width": 0.5
             },
             "pattern": {
              "fillmode": "overlay",
              "size": 10,
              "solidity": 0.2
             }
            },
            "type": "barpolar"
           }
          ],
          "carpet": [
           {
            "aaxis": {
             "endlinecolor": "#2a3f5f",
             "gridcolor": "white",
             "linecolor": "white",
             "minorgridcolor": "white",
             "startlinecolor": "#2a3f5f"
            },
            "baxis": {
             "endlinecolor": "#2a3f5f",
             "gridcolor": "white",
             "linecolor": "white",
             "minorgridcolor": "white",
             "startlinecolor": "#2a3f5f"
            },
            "type": "carpet"
           }
          ],
          "choropleth": [
           {
            "colorbar": {
             "outlinewidth": 0,
             "ticks": ""
            },
            "type": "choropleth"
           }
          ],
          "contour": [
           {
            "colorbar": {
             "outlinewidth": 0,
             "ticks": ""
            },
            "colorscale": [
             [
              0,
              "#0d0887"
             ],
             [
              0.1111111111111111,
              "#46039f"
             ],
             [
              0.2222222222222222,
              "#7201a8"
             ],
             [
              0.3333333333333333,
              "#9c179e"
             ],
             [
              0.4444444444444444,
              "#bd3786"
             ],
             [
              0.5555555555555556,
              "#d8576b"
             ],
             [
              0.6666666666666666,
              "#ed7953"
             ],
             [
              0.7777777777777778,
              "#fb9f3a"
             ],
             [
              0.8888888888888888,
              "#fdca26"
             ],
             [
              1,
              "#f0f921"
             ]
            ],
            "type": "contour"
           }
          ],
          "contourcarpet": [
           {
            "colorbar": {
             "outlinewidth": 0,
             "ticks": ""
            },
            "type": "contourcarpet"
           }
          ],
          "heatmap": [
           {
            "colorbar": {
             "outlinewidth": 0,
             "ticks": ""
            },
            "colorscale": [
             [
              0,
              "#0d0887"
             ],
             [
              0.1111111111111111,
              "#46039f"
             ],
             [
              0.2222222222222222,
              "#7201a8"
             ],
             [
              0.3333333333333333,
              "#9c179e"
             ],
             [
              0.4444444444444444,
              "#bd3786"
             ],
             [
              0.5555555555555556,
              "#d8576b"
             ],
             [
              0.6666666666666666,
              "#ed7953"
             ],
             [
              0.7777777777777778,
              "#fb9f3a"
             ],
             [
              0.8888888888888888,
              "#fdca26"
             ],
             [
              1,
              "#f0f921"
             ]
            ],
            "type": "heatmap"
           }
          ],
          "heatmapgl": [
           {
            "colorbar": {
             "outlinewidth": 0,
             "ticks": ""
            },
            "colorscale": [
             [
              0,
              "#0d0887"
             ],
             [
              0.1111111111111111,
              "#46039f"
             ],
             [
              0.2222222222222222,
              "#7201a8"
             ],
             [
              0.3333333333333333,
              "#9c179e"
             ],
             [
              0.4444444444444444,
              "#bd3786"
             ],
             [
              0.5555555555555556,
              "#d8576b"
             ],
             [
              0.6666666666666666,
              "#ed7953"
             ],
             [
              0.7777777777777778,
              "#fb9f3a"
             ],
             [
              0.8888888888888888,
              "#fdca26"
             ],
             [
              1,
              "#f0f921"
             ]
            ],
            "type": "heatmapgl"
           }
          ],
          "histogram": [
           {
            "marker": {
             "pattern": {
              "fillmode": "overlay",
              "size": 10,
              "solidity": 0.2
             }
            },
            "type": "histogram"
           }
          ],
          "histogram2d": [
           {
            "colorbar": {
             "outlinewidth": 0,
             "ticks": ""
            },
            "colorscale": [
             [
              0,
              "#0d0887"
             ],
             [
              0.1111111111111111,
              "#46039f"
             ],
             [
              0.2222222222222222,
              "#7201a8"
             ],
             [
              0.3333333333333333,
              "#9c179e"
             ],
             [
              0.4444444444444444,
              "#bd3786"
             ],
             [
              0.5555555555555556,
              "#d8576b"
             ],
             [
              0.6666666666666666,
              "#ed7953"
             ],
             [
              0.7777777777777778,
              "#fb9f3a"
             ],
             [
              0.8888888888888888,
              "#fdca26"
             ],
             [
              1,
              "#f0f921"
             ]
            ],
            "type": "histogram2d"
           }
          ],
          "histogram2dcontour": [
           {
            "colorbar": {
             "outlinewidth": 0,
             "ticks": ""
            },
            "colorscale": [
             [
              0,
              "#0d0887"
             ],
             [
              0.1111111111111111,
              "#46039f"
             ],
             [
              0.2222222222222222,
              "#7201a8"
             ],
             [
              0.3333333333333333,
              "#9c179e"
             ],
             [
              0.4444444444444444,
              "#bd3786"
             ],
             [
              0.5555555555555556,
              "#d8576b"
             ],
             [
              0.6666666666666666,
              "#ed7953"
             ],
             [
              0.7777777777777778,
              "#fb9f3a"
             ],
             [
              0.8888888888888888,
              "#fdca26"
             ],
             [
              1,
              "#f0f921"
             ]
            ],
            "type": "histogram2dcontour"
           }
          ],
          "mesh3d": [
           {
            "colorbar": {
             "outlinewidth": 0,
             "ticks": ""
            },
            "type": "mesh3d"
           }
          ],
          "parcoords": [
           {
            "line": {
             "colorbar": {
              "outlinewidth": 0,
              "ticks": ""
             }
            },
            "type": "parcoords"
           }
          ],
          "pie": [
           {
            "automargin": true,
            "type": "pie"
           }
          ],
          "scatter": [
           {
            "fillpattern": {
             "fillmode": "overlay",
             "size": 10,
             "solidity": 0.2
            },
            "type": "scatter"
           }
          ],
          "scatter3d": [
           {
            "line": {
             "colorbar": {
              "outlinewidth": 0,
              "ticks": ""
             }
            },
            "marker": {
             "colorbar": {
              "outlinewidth": 0,
              "ticks": ""
             }
            },
            "type": "scatter3d"
           }
          ],
          "scattercarpet": [
           {
            "marker": {
             "colorbar": {
              "outlinewidth": 0,
              "ticks": ""
             }
            },
            "type": "scattercarpet"
           }
          ],
          "scattergeo": [
           {
            "marker": {
             "colorbar": {
              "outlinewidth": 0,
              "ticks": ""
             }
            },
            "type": "scattergeo"
           }
          ],
          "scattergl": [
           {
            "marker": {
             "colorbar": {
              "outlinewidth": 0,
              "ticks": ""
             }
            },
            "type": "scattergl"
           }
          ],
          "scattermapbox": [
           {
            "marker": {
             "colorbar": {
              "outlinewidth": 0,
              "ticks": ""
             }
            },
            "type": "scattermapbox"
           }
          ],
          "scatterpolar": [
           {
            "marker": {
             "colorbar": {
              "outlinewidth": 0,
              "ticks": ""
             }
            },
            "type": "scatterpolar"
           }
          ],
          "scatterpolargl": [
           {
            "marker": {
             "colorbar": {
              "outlinewidth": 0,
              "ticks": ""
             }
            },
            "type": "scatterpolargl"
           }
          ],
          "scatterternary": [
           {
            "marker": {
             "colorbar": {
              "outlinewidth": 0,
              "ticks": ""
             }
            },
            "type": "scatterternary"
           }
          ],
          "surface": [
           {
            "colorbar": {
             "outlinewidth": 0,
             "ticks": ""
            },
            "colorscale": [
             [
              0,
              "#0d0887"
             ],
             [
              0.1111111111111111,
              "#46039f"
             ],
             [
              0.2222222222222222,
              "#7201a8"
             ],
             [
              0.3333333333333333,
              "#9c179e"
             ],
             [
              0.4444444444444444,
              "#bd3786"
             ],
             [
              0.5555555555555556,
              "#d8576b"
             ],
             [
              0.6666666666666666,
              "#ed7953"
             ],
             [
              0.7777777777777778,
              "#fb9f3a"
             ],
             [
              0.8888888888888888,
              "#fdca26"
             ],
             [
              1,
              "#f0f921"
             ]
            ],
            "type": "surface"
           }
          ],
          "table": [
           {
            "cells": {
             "fill": {
              "color": "#EBF0F8"
             },
             "line": {
              "color": "white"
             }
            },
            "header": {
             "fill": {
              "color": "#C8D4E3"
             },
             "line": {
              "color": "white"
             }
            },
            "type": "table"
           }
          ]
         },
         "layout": {
          "annotationdefaults": {
           "arrowcolor": "#2a3f5f",
           "arrowhead": 0,
           "arrowwidth": 1
          },
          "autotypenumbers": "strict",
          "coloraxis": {
           "colorbar": {
            "outlinewidth": 0,
            "ticks": ""
           }
          },
          "colorscale": {
           "diverging": [
            [
             0,
             "#8e0152"
            ],
            [
             0.1,
             "#c51b7d"
            ],
            [
             0.2,
             "#de77ae"
            ],
            [
             0.3,
             "#f1b6da"
            ],
            [
             0.4,
             "#fde0ef"
            ],
            [
             0.5,
             "#f7f7f7"
            ],
            [
             0.6,
             "#e6f5d0"
            ],
            [
             0.7,
             "#b8e186"
            ],
            [
             0.8,
             "#7fbc41"
            ],
            [
             0.9,
             "#4d9221"
            ],
            [
             1,
             "#276419"
            ]
           ],
           "sequential": [
            [
             0,
             "#0d0887"
            ],
            [
             0.1111111111111111,
             "#46039f"
            ],
            [
             0.2222222222222222,
             "#7201a8"
            ],
            [
             0.3333333333333333,
             "#9c179e"
            ],
            [
             0.4444444444444444,
             "#bd3786"
            ],
            [
             0.5555555555555556,
             "#d8576b"
            ],
            [
             0.6666666666666666,
             "#ed7953"
            ],
            [
             0.7777777777777778,
             "#fb9f3a"
            ],
            [
             0.8888888888888888,
             "#fdca26"
            ],
            [
             1,
             "#f0f921"
            ]
           ],
           "sequentialminus": [
            [
             0,
             "#0d0887"
            ],
            [
             0.1111111111111111,
             "#46039f"
            ],
            [
             0.2222222222222222,
             "#7201a8"
            ],
            [
             0.3333333333333333,
             "#9c179e"
            ],
            [
             0.4444444444444444,
             "#bd3786"
            ],
            [
             0.5555555555555556,
             "#d8576b"
            ],
            [
             0.6666666666666666,
             "#ed7953"
            ],
            [
             0.7777777777777778,
             "#fb9f3a"
            ],
            [
             0.8888888888888888,
             "#fdca26"
            ],
            [
             1,
             "#f0f921"
            ]
           ]
          },
          "colorway": [
           "#636efa",
           "#EF553B",
           "#00cc96",
           "#ab63fa",
           "#FFA15A",
           "#19d3f3",
           "#FF6692",
           "#B6E880",
           "#FF97FF",
           "#FECB52"
          ],
          "font": {
           "color": "#2a3f5f"
          },
          "geo": {
           "bgcolor": "white",
           "lakecolor": "white",
           "landcolor": "#E5ECF6",
           "showlakes": true,
           "showland": true,
           "subunitcolor": "white"
          },
          "hoverlabel": {
           "align": "left"
          },
          "hovermode": "closest",
          "mapbox": {
           "style": "light"
          },
          "paper_bgcolor": "white",
          "plot_bgcolor": "#E5ECF6",
          "polar": {
           "angularaxis": {
            "gridcolor": "white",
            "linecolor": "white",
            "ticks": ""
           },
           "bgcolor": "#E5ECF6",
           "radialaxis": {
            "gridcolor": "white",
            "linecolor": "white",
            "ticks": ""
           }
          },
          "scene": {
           "xaxis": {
            "backgroundcolor": "#E5ECF6",
            "gridcolor": "white",
            "gridwidth": 2,
            "linecolor": "white",
            "showbackground": true,
            "ticks": "",
            "zerolinecolor": "white"
           },
           "yaxis": {
            "backgroundcolor": "#E5ECF6",
            "gridcolor": "white",
            "gridwidth": 2,
            "linecolor": "white",
            "showbackground": true,
            "ticks": "",
            "zerolinecolor": "white"
           },
           "zaxis": {
            "backgroundcolor": "#E5ECF6",
            "gridcolor": "white",
            "gridwidth": 2,
            "linecolor": "white",
            "showbackground": true,
            "ticks": "",
            "zerolinecolor": "white"
           }
          },
          "shapedefaults": {
           "line": {
            "color": "#2a3f5f"
           }
          },
          "ternary": {
           "aaxis": {
            "gridcolor": "white",
            "linecolor": "white",
            "ticks": ""
           },
           "baxis": {
            "gridcolor": "white",
            "linecolor": "white",
            "ticks": ""
           },
           "bgcolor": "#E5ECF6",
           "caxis": {
            "gridcolor": "white",
            "linecolor": "white",
            "ticks": ""
           }
          },
          "title": {
           "x": 0.05
          },
          "xaxis": {
           "automargin": true,
           "gridcolor": "white",
           "linecolor": "white",
           "ticks": "",
           "title": {
            "standoff": 15
           },
           "zerolinecolor": "white",
           "zerolinewidth": 2
          },
          "yaxis": {
           "automargin": true,
           "gridcolor": "white",
           "linecolor": "white",
           "ticks": "",
           "title": {
            "standoff": 15
           },
           "zerolinecolor": "white",
           "zerolinewidth": 2
          }
         }
        },
        "title": {
         "text": "Plot"
        }
       }
      }
     },
     "metadata": {},
     "output_type": "display_data"
    }
   ],
   "source": [
    "# plot the sankey diagram\n",
    "plot_sankey(link_flow_json, updated_node_color_config_csv, output_file_path, img_width, img_height, thickness=node_box_thickness)"
   ]
  },
  {
   "cell_type": "markdown",
   "id": "b5d8a7f3da6d72b5",
   "metadata": {},
   "source": [
    "**To change order of each node, use the interactive interface in the web browser that pop up automatically or the corresponding html file.**\n",
    "\n",
    "**To save the image after rearrangement, just use screenshot function.**"
   ]
  },
  {
   "cell_type": "code",
   "execution_count": 12,
   "id": "80242ccdc46c540a",
   "metadata": {},
   "outputs": [
    {
     "name": "stdout",
     "output_type": "stream",
     "text": [
      "Finished.\n"
     ]
    }
   ],
   "source": [
    "print(\"Finished.\")"
   ]
  }
 ],
 "metadata": {
  "kernelspec": {
   "display_name": "Python 3",
   "language": "python",
   "name": "python3"
  },
  "language_info": {
   "codemirror_mode": {
    "name": "ipython",
    "version": 3
   },
   "file_extension": ".py",
   "mimetype": "text/x-python",
   "name": "python",
   "nbconvert_exporter": "python",
   "pygments_lexer": "ipython3",
   "version": "3.12.4"
  }
 },
 "nbformat": 4,
 "nbformat_minor": 5
}
